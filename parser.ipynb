{
 "cells": [
  {
   "cell_type": "code",
   "execution_count": 28,
   "metadata": {},
   "outputs": [],
   "source": [
    "from bs4 import BeautifulSoup\n",
    "import requests\n",
    "import pandas as pd\n",
    "import time"
   ]
  },
  {
   "cell_type": "code",
   "execution_count": 2,
   "metadata": {},
   "outputs": [],
   "source": [
    "df = pd.read_csv('all_data.csv')"
   ]
  },
  {
   "cell_type": "code",
   "execution_count": 6,
   "metadata": {},
   "outputs": [],
   "source": [
    "headers = {\n",
    "    'Accept': '*/*',\n",
    "    'User-Agent': 'Mozilla/5.0 (Windows NT 6.1; Win64; x64) AppleWebKit/537.36 (KHTML, like Gecko) Chrome/103.0.0.0 Safari/537.36'\n",
    "}"
   ]
  },
  {
   "cell_type": "code",
   "execution_count": 27,
   "metadata": {},
   "outputs": [],
   "source": [
    "def parse_RBK(df, start, stop):\n",
    "    for doc in df.document_id[start: stop]:\n",
    "        url = f'https://www.rbc.ru/rbcfreenews/{doc[:24]}'\n",
    "        req = requests.get(url, headers=headers)\n",
    "        src = req.text\n",
    "        soup = BeautifulSoup(src, 'lxml')\n",
    "        tags = soup.find_all(class_='article__tags__item')\n",
    "        tags_dict[doc] = [tag.text for tag in tags]\n",
    "    "
   ]
  },
  {
   "cell_type": "code",
   "execution_count": 34,
   "metadata": {},
   "outputs": [
    {
     "name": "stdout",
     "output_type": "stream",
     "text": [
      "получены данные для диапазона: 9280 - 9320\n",
      "получены данные для диапазона: 9320 - 9360\n",
      "получены данные для диапазона: 9360 - 9400\n",
      "получены данные для диапазона: 9400 - 9440\n",
      "получены данные для диапазона: 9440 - 9480\n",
      "получены данные для диапазона: 9480 - 9520\n",
      "получены данные для диапазона: 9520 - 9560\n",
      "получены данные для диапазона: 9560 - 9600\n",
      "получены данные для диапазона: 9600 - 9640\n",
      "получены данные для диапазона: 9640 - 9680\n",
      "получены данные для диапазона: 9680 - 9720\n",
      "получены данные для диапазона: 9720 - 9760\n",
      "получены данные для диапазона: 9760 - 9800\n",
      "получены данные для диапазона: 9800 - 9840\n",
      "получены данные для диапазона: 9840 - 9880\n",
      "получены данные для диапазона: 9880 - 9920\n",
      "получены данные для диапазона: 9920 - 9960\n",
      "получены данные для диапазона: 9960 - 10000\n"
     ]
    }
   ],
   "source": [
    "batch_size = 40\n",
    "total = len(df)\n",
    "for i in range(0, total, batch_size):\n",
    "    if i+batch_size < total:\n",
    "        parse_RBK(df, i, i+batch_size)\n",
    "    else:\n",
    "        parse_RBK(df, i, total)\n",
    "    print(f'получены данные для диапазона: {i} - {i+batch_size}')    \n",
    "    time.sleep(5)"
   ]
  },
  {
   "cell_type": "code",
   "execution_count": null,
   "metadata": {},
   "outputs": [],
   "source": [
    "tags_df = pd.DataFrame([tags_dict.keys(), tags_dict.values()]).transpose()\n",
    "tags_df.columns = ['document_id', 'tags_text']"
   ]
  },
  {
   "cell_type": "code",
   "execution_count": null,
   "metadata": {},
   "outputs": [],
   "source": [
    "tags_df.to_csv('parsed_tags.csv', index=False)"
   ]
  }
 ],
 "metadata": {
  "kernelspec": {
   "display_name": "Python 3",
   "language": "python",
   "name": "python3"
  },
  "language_info": {
   "codemirror_mode": {
    "name": "ipython",
    "version": 3
   },
   "file_extension": ".py",
   "mimetype": "text/x-python",
   "name": "python",
   "nbconvert_exporter": "python",
   "pygments_lexer": "ipython3",
   "version": "3.8.5"
  }
 },
 "nbformat": 4,
 "nbformat_minor": 5
}
